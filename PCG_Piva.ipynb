{
  "cells": [
    {
      "cell_type": "markdown",
      "metadata": {
        "id": "view-in-github",
        "colab_type": "text"
      },
      "source": [
        "<a href=\"https://colab.research.google.com/github/giovane1-8/API_analise_dados_TDE/blob/main/PCG_Piva.ipynb\" target=\"_parent\"><img src=\"https://colab.research.google.com/assets/colab-badge.svg\" alt=\"Open In Colab\"/></a>"
      ]
    },
    {
      "cell_type": "code",
      "source": [
        "%%writefile matrizes.cpp\n",
        "\n",
        "#include <iostream>\n",
        "\n",
        "using namespace std;\n",
        "\n",
        "int main(int argc, char *argv[]) {\n",
        "\n",
        "    int n;\n",
        "    float **m_a, **m_b, **m_c;\n",
        "\n",
        "    if(argc < 2) return -1;\n",
        "    n = atoi(argv[1]);\n",
        "\n",
        "    m_a = new float*[n];\n",
        "    m_b = new float*[n];\n",
        "    m_c = new float*[n];\n",
        "    for(int i=0; i<n; i++)\n",
        "    {\n",
        "        m_a[i] = new float[n];\n",
        "        m_b[i] = new float[n];\n",
        "        m_c[i] = new float[n];\n",
        "    }\n",
        "\n",
        "    for(int i=0; i<n; i++)\n",
        "        for(int j=0; j<n; j++)\n",
        "        {\n",
        "            m_a[i][j] = i+1;\n",
        "            m_b[i][j] = (i+1) + (j+1);\n",
        "            m_c[i][j] = 0.0;\n",
        "        }\n",
        "\n",
        "    for (int i=0; i<n; i++)\n",
        "        for ( int j=0; j<n; j++)\n",
        "        {\n",
        "            m_c[i][j] = 0.0;\n",
        "            for ( int k=0; k<n; k++)\n",
        "                m_c[i][j] = m_c[i][j] + m_a[i][k] * m_b[k][j];\n",
        "        }\n",
        "\n",
        "    for(int i=0; i<n; i++)\n",
        "    {\n",
        "        for(int j=0; j<n; j++)\n",
        "            std::cout << m_c[i][j] << \", \";\n",
        "\n",
        "        std::cout << std::endl;\n",
        "    };\n",
        "\n",
        "    return 0;\n",
        "}"
      ],
      "metadata": {
        "id": "MYFEaCtUXzno",
        "outputId": "4fc724e7-dcbd-4f4e-b85b-ef7861271fde",
        "colab": {
          "base_uri": "https://localhost:8080/"
        }
      },
      "execution_count": 1,
      "outputs": [
        {
          "output_type": "stream",
          "name": "stdout",
          "text": [
            "Writing matrizes.cpp\n"
          ]
        }
      ]
    },
    {
      "cell_type": "code",
      "source": [
        "! g++ matrizes.cpp -o Matrizes"
      ],
      "metadata": {
        "id": "wsbpDnqEYNcY"
      },
      "execution_count": 2,
      "outputs": []
    },
    {
      "cell_type": "code",
      "source": [
        "! ./Matrizes 5 45"
      ],
      "metadata": {
        "id": "SggOwwGkYrF8",
        "colab": {
          "base_uri": "https://localhost:8080/"
        },
        "outputId": "60f1d559-0c93-46d0-d4dc-797461d94b65"
      },
      "execution_count": 5,
      "outputs": [
        {
          "output_type": "stream",
          "name": "stdout",
          "text": [
            "20, 25, 30, 35, 40, \n",
            "40, 50, 60, 70, 80, \n",
            "60, 75, 90, 105, 120, \n",
            "80, 100, 120, 140, 160, \n",
            "100, 125, 150, 175, 200, \n"
          ]
        }
      ]
    },
    {
      "cell_type": "code",
      "source": [
        "%%writefile matrizes_omp.cpp\n",
        "\n",
        "#include <iostream>\n",
        "#include <omp.h>\n",
        "\n",
        "using namespace std;\n",
        "\n",
        "int main(int argc, char *argv[]) {\n",
        "\n",
        "    int n;\n",
        "    float **m_a, **m_b, **m_c;\n",
        "\n",
        "    if(argc < 2) return -1;\n",
        "    n = atoi(argv[1]);\n",
        "\n",
        "    m_a = new float*[n];\n",
        "    m_b = new float*[n];\n",
        "    m_c = new float*[n];\n",
        "    for(int i=0; i<n; i++)\n",
        "    {\n",
        "        m_a[i] = new float[n];\n",
        "        m_b[i] = new float[n];\n",
        "        m_c[i] = new float[n];\n",
        "    }\n",
        "\n",
        "    for(int i=0; i<n; i++)\n",
        "        for(int j=0; j<n; j++)\n",
        "        {\n",
        "            m_a[i][j] = i+1;\n",
        "            m_b[i][j] = (i+1) + (j+1);\n",
        "            m_c[i][j] = 0.0;\n",
        "        }\n",
        "    int i, j , k;\n",
        "    #pragma omp parallel for shared(m_a, m_b, m_c, n) private(i, j, k)\n",
        "    for (i = 0; i < n; i++) {\n",
        "        for (j = 0; j < n; j++) {\n",
        "            float sum = 0.0;\n",
        "            for (k = 0; k < n; k++) {\n",
        "                sum += m_a[i][k] * m_b[k][j];\n",
        "            }\n",
        "            m_c[i][j] = sum;\n",
        "        }\n",
        "    }\n",
        "\n",
        "\n",
        "\n",
        "    for(int i=0; i<n; i++)\n",
        "    {\n",
        "        for(int j=0; j<n; j++)\n",
        "            std::cout << m_c[i][j] << \", \";\n",
        "\n",
        "        std::cout << std::endl;\n",
        "    };\n",
        "\n",
        "    return 0;\n",
        "}"
      ],
      "metadata": {
        "id": "d49fnL_KfTp-",
        "outputId": "cd1d1508-8380-461f-8ad5-e05f6ffb5196",
        "colab": {
          "base_uri": "https://localhost:8080/"
        }
      },
      "execution_count": 24,
      "outputs": [
        {
          "output_type": "stream",
          "name": "stdout",
          "text": [
            "Overwriting matrizes_omp.cpp\n"
          ]
        }
      ]
    },
    {
      "cell_type": "code",
      "source": [
        "!g++ -fopenmp matrizes_omp.cpp -o matrizes_omp"
      ],
      "metadata": {
        "id": "vFTbkyxHfdfu"
      },
      "execution_count": 25,
      "outputs": []
    },
    {
      "cell_type": "code",
      "source": [
        "!./matrizes_omp 5"
      ],
      "metadata": {
        "id": "aRczgW2ufxWM",
        "outputId": "0ea1b9f8-9d86-4fe6-b49c-42ea7bffc6d2",
        "colab": {
          "base_uri": "https://localhost:8080/"
        }
      },
      "execution_count": 26,
      "outputs": [
        {
          "output_type": "stream",
          "name": "stdout",
          "text": [
            "20, 25, 30, 35, 40, \n",
            "40, 50, 60, 70, 80, \n",
            "60, 75, 90, 105, 120, \n",
            "80, 100, 120, 140, 160, \n",
            "100, 125, 150, 175, 200, \n"
          ]
        }
      ]
    }
  ],
  "metadata": {
    "colab": {
      "provenance": [],
      "include_colab_link": true
    },
    "kernelspec": {
      "display_name": "Python 3",
      "name": "python3"
    }
  },
  "nbformat": 4,
  "nbformat_minor": 0
}